{
 "cells": [
  {
   "cell_type": "markdown",
   "metadata": {},
   "source": [
    "##### < DB_30_Mini Project_01 >"
   ]
  },
  {
   "cell_type": "markdown",
   "metadata": {},
   "source": [
    "### 예스 24 크롤링"
   ]
  },
  {
   "cell_type": "code",
   "execution_count": 1,
   "metadata": {},
   "outputs": [
    {
     "data": {
      "text/plain": [
       "'/Users/oreo-mix/.wdm/drivers/chromedriver/mac64/121.0.6167.184/chromedriver-mac-x64/chromedriver'"
      ]
     },
     "execution_count": 1,
     "metadata": {},
     "output_type": "execute_result"
    }
   ],
   "source": [
    "# webdriver-manager 라이브러리 불러오기\n",
    "from webdriver_manager.chrome import ChromeDriverManager\n",
    "ChromeDriverManager().install()"
   ]
  },
  {
   "cell_type": "code",
   "execution_count": 3,
   "metadata": {},
   "outputs": [],
   "source": [
    "from selenium import webdriver\n",
    "browser = webdriver.Chrome()"
   ]
  },
  {
   "cell_type": "code",
   "execution_count": 4,
   "metadata": {},
   "outputs": [],
   "source": [
    "url = 'https://google.com'\n",
    "browser.get(url)"
   ]
  },
  {
   "cell_type": "code",
   "execution_count": 5,
   "metadata": {},
   "outputs": [
    {
     "data": {
      "text/plain": [
       "'대한민국'"
      ]
     },
     "execution_count": 5,
     "metadata": {},
     "output_type": "execute_result"
    }
   ],
   "source": [
    "from selenium.webdriver.common.by import By\n",
    "browser.find_element(By.CLASS_NAME, 'uU7dJb').text\n",
    "# <리스트 데이터 : 요소>"
   ]
  },
  {
   "cell_type": "markdown",
   "metadata": {},
   "source": [
    "##### < DB_31_Mini Project_02 >"
   ]
  },
  {
   "cell_type": "code",
   "execution_count": 20,
   "metadata": {},
   "outputs": [],
   "source": [
    "url = 'https://www.yes24.com/Product/Category/BestSeller?categoryNumber=001&pageNumber=1&pageSize=24'\n",
    "browser.get(url)"
   ]
  },
  {
   "cell_type": "code",
   "execution_count": 6,
   "metadata": {},
   "outputs": [],
   "source": [
    "# 브라우저 재실행\n",
    "from selenium.webdriver.common.by import By\n",
    "url = 'https://www.yes24.com/Product/Category/BestSeller?categoryNumber=001&pageNumber=1&pageSize=24'\n",
    "browser.get(url)"
   ]
  },
  {
   "cell_type": "markdown",
   "metadata": {},
   "source": []
  },
  {
   "cell_type": "code",
   "execution_count": 21,
   "metadata": {},
   "outputs": [
    {
     "name": "stdout",
     "output_type": "stream",
     "text": [
      "https://www.yes24.com/Product/Goods/122120495\n",
      "https://www.yes24.com/Product/Goods/123675187\n",
      "https://www.yes24.com/Product/Goods/117014613\n",
      "https://www.yes24.com/Product/Goods/124702623\n",
      "https://www.yes24.com/Product/Goods/124043812\n",
      "https://www.yes24.com/Product/Goods/124043802\n",
      "https://www.yes24.com/Product/Goods/123400303\n",
      "https://www.yes24.com/Product/Goods/122090360\n",
      "https://www.yes24.com/Product/Goods/122944685\n",
      "https://www.yes24.com/Product/Goods/118579613\n",
      "https://www.yes24.com/Product/Goods/124539805\n",
      "https://www.yes24.com/Product/Goods/124110821\n",
      "https://www.yes24.com/Product/Goods/118413014\n",
      "https://www.yes24.com/Product/Goods/122428190\n",
      "https://www.yes24.com/Product/Goods/124112599\n",
      "https://www.yes24.com/Product/Goods/124644663\n",
      "https://www.yes24.com/Product/Goods/124702605\n",
      "https://www.yes24.com/Product/Goods/119458052\n",
      "https://www.yes24.com/Product/Goods/124849202\n",
      "https://www.yes24.com/Product/Goods/119562091\n",
      "https://www.yes24.com/Product/Goods/124644681\n",
      "https://www.yes24.com/Product/Goods/124501342\n",
      "https://www.yes24.com/Product/Goods/119120517\n",
      "https://www.yes24.com/Product/Goods/124707232\n"
     ]
    }
   ],
   "source": [
    "# 1 페이지의 링트 데이터 전부 수집\n",
    "### 한개의 베스트 셀러 링크 수집\n",
    "browser.find_element(By.CLASS_NAME, 'gd_name').get_attribute('href')\n",
    "\n",
    "### 1 페이지 전체의 링크 데이터\n",
    "#  browser.find_element(By.CLASS_NAME, 'gd_name')  # element : 요소\n",
    "datas = browser.find_elements(By.CLASS_NAME, 'gd_name') # elements : 리스트\n",
    "\n",
    "for i in datas:\n",
    "    print(i.get_attribute('href'))"
   ]
  },
  {
   "cell_type": "code",
   "execution_count": 2,
   "metadata": {},
   "outputs": [],
   "source": [
    "    # 페이지 재실행_01\n",
    "from selenium import webdriver\n",
    "from selenium.webdriver.common.by import By\n",
    "\n",
    "browser = webdriver.Chrome()\n",
    "url = 'https://www.yes24.com/Product/Category/BestSeller?categoryNumber=001&pageNumber=1&pageSize=24'\n",
    "browser.get(url)\n"
   ]
  },
  {
   "cell_type": "code",
   "execution_count": 3,
   "metadata": {},
   "outputs": [
    {
     "name": "stdout",
     "output_type": "stream",
     "text": [
      "********** 현재 1 페이지 수집 중 입니다. **********\n",
      "********** 현재 2 페이지 수집 중 입니다. **********\n",
      "********** 현재 3 페이지 수집 중 입니다. **********\n",
      "['https://www.yes24.com/Product/Goods/122120495', 'https://www.yes24.com/Product/Goods/123675187', 'https://www.yes24.com/Product/Goods/117014613', 'https://www.yes24.com/Product/Goods/125101034', 'https://www.yes24.com/Product/Goods/124702623', 'https://www.yes24.com/Product/Goods/123400303', 'https://www.yes24.com/Product/Goods/125075531', 'https://www.yes24.com/Product/Goods/124702605', 'https://www.yes24.com/Product/Goods/124043812', 'https://www.yes24.com/Product/Goods/124043802', 'https://www.yes24.com/Product/Goods/122090360', 'https://www.yes24.com/Product/Goods/124988172', 'https://www.yes24.com/Product/Goods/123676271', 'https://www.yes24.com/Product/Goods/118413014', 'https://www.yes24.com/Product/Goods/125100930', 'https://www.yes24.com/Product/Goods/124999096', 'https://www.yes24.com/Product/Goods/122944685', 'https://www.yes24.com/Product/Goods/122428190', 'https://www.yes24.com/Product/Goods/124717965', 'https://www.yes24.com/Product/Goods/119562091', 'https://www.yes24.com/Product/Goods/118579613', 'https://www.yes24.com/Product/Goods/124644663', 'https://www.yes24.com/Product/Goods/124112599', 'https://www.yes24.com/Product/Goods/124999615', 'https://www.yes24.com/Product/Goods/124644681', 'https://www.yes24.com/Product/Goods/125075361', 'https://www.yes24.com/Product/Goods/123318244', 'https://www.yes24.com/Product/Goods/123126171', 'https://www.yes24.com/Product/Goods/124707232', 'https://www.yes24.com/Product/Goods/119458052', 'https://www.yes24.com/Product/Goods/124339743', 'https://www.yes24.com/Product/Goods/79297023', 'https://www.yes24.com/Product/Goods/124127709', 'https://www.yes24.com/Product/Goods/124899969', 'https://www.yes24.com/Product/Goods/125080611', 'https://www.yes24.com/Product/Goods/123930880', 'https://www.yes24.com/Product/Goods/124213903', 'https://www.yes24.com/Product/Goods/96072143', 'https://www.yes24.com/Product/Goods/118569079', 'https://www.yes24.com/Product/Goods/124516018', 'https://www.yes24.com/Product/Goods/124624629', 'https://www.yes24.com/Product/Goods/124393292', 'https://www.yes24.com/Product/Goods/124472824', 'https://www.yes24.com/Product/Goods/124923444', 'https://www.yes24.com/Product/Goods/8759796', 'https://www.yes24.com/Product/Goods/122880691', 'https://www.yes24.com/Product/Goods/125085534', 'https://www.yes24.com/Product/Goods/123930891', 'https://www.yes24.com/Product/Goods/106711883', 'https://www.yes24.com/Product/Goods/67362730', 'https://www.yes24.com/Product/Goods/104086365', 'https://www.yes24.com/Product/Goods/90428162', 'https://www.yes24.com/Product/Goods/124397623', 'https://www.yes24.com/Product/Goods/116467955', 'https://www.yes24.com/Product/Goods/9349031', 'https://www.yes24.com/Product/Goods/124501342', 'https://www.yes24.com/Product/Goods/125100906', 'https://www.yes24.com/Product/Goods/122426425', 'https://www.yes24.com/Product/Goods/104826605', 'https://www.yes24.com/Product/Goods/119120517', 'https://www.yes24.com/Product/Goods/124987973', 'https://www.yes24.com/Product/Goods/124106975', 'https://www.yes24.com/Product/Goods/124574394', 'https://www.yes24.com/Product/Goods/120785860', 'https://www.yes24.com/Product/Goods/118578901', 'https://www.yes24.com/Product/Goods/102502665', 'https://www.yes24.com/Product/Goods/125035411', 'https://www.yes24.com/Product/Goods/91868954', 'https://www.yes24.com/Product/Goods/124832857', 'https://www.yes24.com/Product/Goods/124849202', 'https://www.yes24.com/Product/Goods/125013296', 'https://www.yes24.com/Product/Goods/59003542']\n"
     ]
    }
   ],
   "source": [
    "# 3 페이지까지의 링크 데이터 전부 수집\n",
    "# https://www.yes24.com/Product/Category/BestSeller?categoryNumber=001&pageNumber=1&pageSize=24\n",
    "\n",
    "    # 페이지 재실행_02\n",
    "\n",
    "import time\n",
    "\n",
    "link_list = []\n",
    "for i in range(1, 4):\n",
    "    print('*' *10, f'현재 {i} 페이지 수집 중 입니다.', '*' * 10)\n",
    "    url = f'https://www.yes24.com/Product/Category/BestSeller?categoryNumber=001&pageNumber={i}&pageSize=24'\n",
    "    browser.get(url)\n",
    "    # print(url)\n",
    "\n",
    "    browser.find_element(By.CLASS_NAME, 'gd_name').get_attribute('href')\n",
    "    ### 1 페이지 전체의 링크 데이터\n",
    "    datas = browser.find_elements(By.CLASS_NAME, 'gd_name') # elements : 리스트\n",
    "\n",
    "    for i in datas:\n",
    "        link = i.get_attribute('href')\n",
    "        link_list.append(link)\n",
    "\n",
    "    time.sleep(3)\n",
    "print(link_list)"
   ]
  },
  {
   "cell_type": "code",
   "execution_count": 4,
   "metadata": {},
   "outputs": [
    {
     "data": {
      "text/plain": [
       "72"
      ]
     },
     "execution_count": 4,
     "metadata": {},
     "output_type": "execute_result"
    }
   ],
   "source": [
    "len(link_list)"
   ]
  },
  {
   "cell_type": "markdown",
   "metadata": {},
   "source": [
    "##### < DB_32_ Mini Project_03 >"
   ]
  },
  {
   "cell_type": "code",
   "execution_count": 24,
   "metadata": {},
   "outputs": [
    {
     "data": {
      "text/plain": [
       "('10', '국내도서 top20 9주')"
      ]
     },
     "execution_count": 24,
     "metadata": {},
     "output_type": "execute_result"
    }
   ],
   "source": [
    "# # 상세 페이지로 이동\n",
    "# for link in link_list:\n",
    "#     browser.get(link)\n",
    "\n",
    "browser.get(link_list[9])\n",
    "\n",
    "# title = browser.find_element(By.CLASS_NAME, 'gd_name').text\n",
    "# author = browser.find_element(By.CLASS_NAME, 'gd_auth').text \n",
    "# publisher = browser.find_element(By.CLASS_NAME, 'gd_pub').text\n",
    "# publishing = browser.find_element(By.CLASS_NAME, 'gd_date').text\n",
    "# rating = browser.find_element(By.CLASS_NAME, 'yes_b').text\n",
    "# review = browser.find_element(By.CLASS_NAME, 'txC_blue').text\n",
    "# sales = browser.find_element(By.CLASS_NAME, 'gd_sellNum').text.split(\" \")[2]\n",
    "# price = browser.find_element(By.CLASS_NAME, 'yes_m').text[:-1]\n",
    "ranking = browser.find_element(By.CLASS_NAME, 'gd_best').text.split(' | ')[0].split(\" \")[2][:-1]\n",
    "# ranking_weeks = browser.find_element(By.CLASS_NAME, 'gd_best').text.split(' | ')[1]\n",
    "# .split(' ')[2][:-1]\n",
    "\n",
    "\n",
    "# title, author, publisher, publishing, rating, review, sales, price, ranking, ranking_weeks\n"
   ]
  },
  {
   "cell_type": "code",
   "execution_count": 44,
   "metadata": {},
   "outputs": [
    {
     "data": {
      "text/plain": [
       "'886,539'"
      ]
     },
     "execution_count": 44,
     "metadata": {},
     "output_type": "execute_result"
    }
   ],
   "source": [
    "# 테스트 1\n",
    "\n",
    "text = \"'| 판매지수 886,539 판매지수란?'\"\n",
    "# text.split(\" \")\n",
    "text.split(\" \")[2]\n"
   ]
  },
  {
   "cell_type": "code",
   "execution_count": null,
   "metadata": {},
   "outputs": [
    {
     "data": {
      "text/plain": [
       "'886,539'"
      ]
     },
     "metadata": {},
     "output_type": "display_data"
    }
   ],
   "source": [
    "# 테스트 2\n",
    "\n",
    "text = \"'| 판매지수 886,539 판매지수란?'\"\n",
    "# text.split(\" \")\n",
    "text.split(\" \")[2]\n"
   ]
  },
  {
   "cell_type": "code",
   "execution_count": 50,
   "metadata": {},
   "outputs": [
    {
     "data": {
      "text/plain": [
       "['베스트', '국내도서', '1위', '']"
      ]
     },
     "execution_count": 50,
     "metadata": {},
     "output_type": "execute_result"
    }
   ],
   "source": [
    "# 테스트 3\n",
    "\n",
    "text = '베스트 국내도서 1위 | 국내도서 1위 10주'\n",
    "text.split('|')[0].split(' ')"
   ]
  },
  {
   "cell_type": "markdown",
   "metadata": {},
   "source": [
    "##### < DB_33_Mini Project_04 >"
   ]
  },
  {
   "cell_type": "code",
   "execution_count": 78,
   "metadata": {},
   "outputs": [],
   "source": [
    "# 데이터 베이스 연동 후 -> 수집한 데이터를 DB에 저장 (csv)\n",
    "    # DB에 oz_yes24 스키마 생성\n",
    "    # 테이블 생성"
   ]
  },
  {
   "cell_type": "code",
   "execution_count": null,
   "metadata": {},
   "outputs": [],
   "source": [
    "# 데이터 베이스 연동 후 -> 수집한 데이터를 DB에 저장 (csv)\n",
    "\n",
    "import pymysql # pip install pymysql : 가상환경이므로 설치\n",
    "import time\n",
    "import re\n",
    "from datetime import datetime\n",
    "\n",
    "conn = pymysql.connect(\n",
    "    host = 'localhost',\n",
    "    user = 'root',\n",
    "    password = 'tkfkd6303',\n",
    "    db = 'ozDB_yes24',\n",
    "    charset = 'utf8mb4',\n",
    "    cursorclass = pymysql.cursors.DictCursor\n",
    ")\n",
    "\n",
    "with conn.cursor() as cur:\n",
    "\n",
    "    for link in link_list:\n",
    "        browser.get(link)\n",
    "\n",
    "        title = browser.find_element(By.CLASS_NAME, 'gd_name').text\n",
    "        author = browser.find_element(By.CLASS_NAME, 'gd_auth').text \n",
    "        publisher = browser.find_element(By.CLASS_NAME, 'gd_pub').text\n",
    "\n",
    "        # 2023년 12월 25일 -> 2023-12-25\n",
    "        publishing = browser.find_element(By.CLASS_NAME, 'gd_date').text\n",
    "\n",
    "        match = re.search(r'(\\d+)년 (\\d+)월 (\\d+)일', publishing)\n",
    "\n",
    "        if match:\n",
    "            year, month, day = match.groups()\n",
    "            data_obj = datetime(int(year), int(month), int(day))\n",
    "            publishing = data_obj.strftime('%Y-%m-%d')\n",
    "        else:\n",
    "            publishing = '2023-01-01'\n",
    "\n",
    "        rating = browser.find_element(By.CLASS_NAME, 'yes_b').text\n",
    " \n",
    "        review = browser.find_element(By.CLASS_NAME, 'txC_blue').text\n",
    "        review = int(review.replace(',', ''))\n",
    "\n",
    "        sales = browser.find_element(By.CLASS_NAME, 'gd_sellNum').text.split(\" \")[2]\n",
    "        sales = int(sales.replace(',', ''))\n",
    "\n",
    "        price = browser.find_element(By.CLASS_NAME, 'yes_m').text[:-1]\n",
    "        price = int(price.replace(',', ''))\n",
    "\n",
    "        full_text = browser.find_element(By.CLASS_NAME, 'gd_best').text\n",
    "\n",
    "        print('full_text :', full_text)\n",
    "        parts = full_text.split(' | ')\n",
    "\n",
    "        if len(parts) == 1:\n",
    "            ranking = 0\n",
    "            ranking_weeks = 0\n",
    "        else:\n",
    "            try:\n",
    "                ranking_part = parts[0]\n",
    "                ranking = ''.join(filter(str.isdigit, ranking_part)) # 숫자만 추출\n",
    "            except:\n",
    "                ranking = 0\n",
    "\n",
    "            print(ranking)\n",
    "            \n",
    "            try:\n",
    "                ranking_weeks_part = parts[1]\n",
    "                ranking_weeks = ''.join(filter(str.isdigit, ranking_weeks_part.split()[-1]))\n",
    "            except:\n",
    "                ranking_weeks = 0\n",
    "\n",
    "\n",
    "        # ranking = browser.find_element(By.CLASS_NAME, 'gd_best').text.split(' | ')[1].split(\" \")[1][:-1]\n",
    "        # ranking_weeks = browser.find_element(By.CLASS_NAME, 'gd_best').text.split(' | ')[1].split(' ')[2][:-1]\n",
    "\n",
    "\n",
    "        sql = '''INSERT INTO Books(\n",
    "            title, author, publisher, publishing, rating, \n",
    "            review, sales, price, ranking, ranking_weeks\n",
    "        )\n",
    "        VALUES(\n",
    "            %s, %s, %s, %s, %s, \n",
    "            %s, %s, %s, %s, %s\n",
    "        )\n",
    "        '''\n",
    "\n",
    "        cur.execute(sql, (\n",
    "            title, author, publisher, publishing, rating, \n",
    "            review, sales, price, ranking, ranking_weeks))\n",
    "        conn.commit()\n",
    "\n",
    "        time.sleep(2)"
   ]
  }
 ],
 "metadata": {
  "kernelspec": {
   "display_name": ".venv",
   "language": "python",
   "name": "python3"
  },
  "language_info": {
   "codemirror_mode": {
    "name": "ipython",
    "version": 3
   },
   "file_extension": ".py",
   "mimetype": "text/x-python",
   "name": "python",
   "nbconvert_exporter": "python",
   "pygments_lexer": "ipython3",
   "version": "3.11.7"
  }
 },
 "nbformat": 4,
 "nbformat_minor": 2
}
